{
 "cells": [
  {
   "cell_type": "code",
   "execution_count": 1,
   "id": "6d122fc9-b193-4260-ac8d-b035341cf2e2",
   "metadata": {},
   "outputs": [
    {
     "name": "stdout",
     "output_type": "stream",
     "text": [
      "<class 'pandas.core.frame.DataFrame'>\n",
      "RangeIndex: 1040067 entries, 0 to 1040066\n",
      "Data columns (total 10 columns):\n",
      " #   Column                Non-Null Count    Dtype  \n",
      "---  ------                --------------    -----  \n",
      " 0   ESTU_GENERO           1040067 non-null  int64  \n",
      " 1   FAMI_EDUCACIONPADRE   1040067 non-null  int64  \n",
      " 2   FAMI_TIENEAUTOMOVIL   1040067 non-null  int64  \n",
      " 3   FAMI_TIENELAVADORA    1040067 non-null  int64  \n",
      " 4   FAMI_ESTRATOVIVIENDA  1040067 non-null  int64  \n",
      " 5   FAMI_TIENECOMPUTADOR  1040067 non-null  int64  \n",
      " 6   FAMI_TIENEINTERNET    1040067 non-null  int64  \n",
      " 7   FAMI_EDUCACIONMADRE   1040067 non-null  int64  \n",
      " 8   EDAD_EXAMEN           1040067 non-null  float64\n",
      " 9   PUNT_GLOBAL           1040067 non-null  float64\n",
      "dtypes: float64(2), int64(8)\n",
      "memory usage: 79.4 MB\n"
     ]
    },
    {
     "data": {
      "text/plain": [
       "(   ESTU_GENERO  FAMI_EDUCACIONPADRE  FAMI_TIENEAUTOMOVIL  FAMI_TIENELAVADORA  \\\n",
       " 0            0                    2                    1                   1   \n",
       " 1            1                    1                    0                   1   \n",
       " 2            1                    9                    0                   1   \n",
       " 3            0                    8                    0                   1   \n",
       " 4            0                    7                    0                   1   \n",
       " \n",
       "    FAMI_ESTRATOVIVIENDA  FAMI_TIENECOMPUTADOR  FAMI_TIENEINTERNET  \\\n",
       " 0                     2                     1                   1   \n",
       " 1                     2                     1                   1   \n",
       " 2                     2                     1                   1   \n",
       " 3                     3                     1                   1   \n",
       " 4                     1                     0                   0   \n",
       " \n",
       "    FAMI_EDUCACIONMADRE  EDAD_EXAMEN  PUNT_GLOBAL  \n",
       " 0                    3         21.0        763.0  \n",
       " 1                    3         23.0        858.0  \n",
       " 2                    6         21.0        795.0  \n",
       " 3                    8         31.0        646.0  \n",
       " 4                    0         22.0        647.0  ,\n",
       " None)"
      ]
     },
     "execution_count": 1,
     "metadata": {},
     "output_type": "execute_result"
    }
   ],
   "source": [
    "import pandas as pd\n",
    "\n",
    "df_saberpro  = pd.read_csv('solo_SaberPro.csv')\n",
    "df_saberpro .head()\n",
    "\n",
    "# Ver las primeras filas y la información general del DataFrame para entender su estructura y tipos de datos\n",
    "df_saberpro.head(), df_saberpro.info()"
   ]
  },
  {
   "cell_type": "code",
   "execution_count": 2,
   "id": "79868d3b-30a3-4208-949f-7af83071c87f",
   "metadata": {},
   "outputs": [
    {
     "data": {
      "text/plain": [
       "((832053, 9), (208014, 9), (832053,), (208014,))"
      ]
     },
     "execution_count": 2,
     "metadata": {},
     "output_type": "execute_result"
    }
   ],
   "source": [
    "from sklearn.model_selection import train_test_split\n",
    "from sklearn.preprocessing import StandardScaler\n",
    "\n",
    "# Separar las características y la variable objetivo\n",
    "X = df_saberpro.drop('PUNT_GLOBAL', axis=1)\n",
    "y = df_saberpro['PUNT_GLOBAL']\n",
    "\n",
    "# Escalar las variables continuas\n",
    "scaler = StandardScaler()\n",
    "X[['EDAD_EXAMEN']] = scaler.fit_transform(X[['EDAD_EXAMEN']])\n",
    "\n",
    "# División en conjunto de entrenamiento y prueba (80%-20%)\n",
    "X_train, X_test, y_train, y_test = train_test_split(X, y, test_size=0.2, random_state=42)\n",
    "\n",
    "# Verificar la división\n",
    "X_train.shape, X_test.shape, y_train.shape, y_test.shape\n"
   ]
  },
  {
   "cell_type": "code",
   "execution_count": 3,
   "id": "0fb49648-10c5-427d-957b-427f8e0e7c8e",
   "metadata": {},
   "outputs": [
    {
     "data": {
      "text/plain": [
       "(np.float64(12645.102841415073), 0.19061387622121662)"
      ]
     },
     "execution_count": 3,
     "metadata": {},
     "output_type": "execute_result"
    }
   ],
   "source": [
    "from sklearn.linear_model import LinearRegression\n",
    "from sklearn.metrics import mean_squared_error, r2_score\n",
    "\n",
    "# Crear y entrenar el modelo de regresión lineal\n",
    "linear_model = LinearRegression()\n",
    "linear_model.fit(X_train, y_train)\n",
    "\n",
    "# Realizar predicciones en el conjunto de prueba\n",
    "y_pred = linear_model.predict(X_test)\n",
    "\n",
    "# Evaluación del modelo\n",
    "mse = mean_squared_error(y_test, y_pred)\n",
    "r2 = r2_score(y_test, y_pred)\n",
    "\n",
    "mse, r2\n"
   ]
  },
  {
   "cell_type": "code",
   "execution_count": 4,
   "id": "638c26f7-4ab2-4ca8-b57f-6031b53ddd56",
   "metadata": {},
   "outputs": [
    {
     "data": {
      "text/plain": [
       "(np.float64(13709.355237903119), 0.12249334507816223)"
      ]
     },
     "execution_count": 4,
     "metadata": {},
     "output_type": "execute_result"
    }
   ],
   "source": [
    "from sklearn.tree import DecisionTreeRegressor\n",
    "\n",
    "# Crear y entrenar el modelo de Árbol de Decisión\n",
    "tree_model = DecisionTreeRegressor(random_state=42)\n",
    "tree_model.fit(X_train, y_train)\n",
    "\n",
    "# Realizar predicciones en el conjunto de prueba\n",
    "y_pred_tree = tree_model.predict(X_test)\n",
    "\n",
    "# Evaluación del modelo\n",
    "mse_tree = mean_squared_error(y_test, y_pred_tree)\n",
    "r2_tree = r2_score(y_test, y_pred_tree)\n",
    "\n",
    "mse_tree, r2_tree\n"
   ]
  },
  {
   "cell_type": "code",
   "execution_count": 5,
   "id": "09e16aeb-ddd0-47fa-9a7a-f631c58faaa9",
   "metadata": {},
   "outputs": [
    {
     "data": {
      "text/plain": [
       "(np.float64(13082.160345674127), 0.1626387554430706)"
      ]
     },
     "execution_count": 5,
     "metadata": {},
     "output_type": "execute_result"
    }
   ],
   "source": [
    "from sklearn.ensemble import RandomForestRegressor\n",
    "\n",
    "# Crear y entrenar el modelo de Random Forest\n",
    "rf_model = RandomForestRegressor(random_state=42, n_jobs=-1)\n",
    "rf_model.fit(X_train, y_train)\n",
    "\n",
    "# Realizar predicciones en el conjunto de prueba\n",
    "y_pred_rf = rf_model.predict(X_test)\n",
    "\n",
    "# Evaluación del modelo\n",
    "mse_rf = mean_squared_error(y_test, y_pred_rf)\n",
    "r2_rf = r2_score(y_test, y_pred_rf)\n",
    "\n",
    "mse_rf, r2_rf\n"
   ]
  },
  {
   "cell_type": "code",
   "execution_count": null,
   "id": "39ac50c7-a243-4a09-a7b1-f73bc8363131",
   "metadata": {},
   "outputs": [],
   "source": [
    "import pandas as pd\n",
    "from sklearn.model_selection import train_test_split\n",
    "from sklearn.svm import SVR\n",
    "from sklearn.metrics import mean_squared_error, r2_score\n",
    "\n",
    "# Tomar una muestra del 5% de los datos\n",
    "df_sample = df_saberpro.sample(frac=0.01, random_state=42)\n",
    "\n",
    "# Separar características y variable objetivo\n",
    "X = df_sample.drop('PUNT_GLOBAL', axis=1)\n",
    "y = df_sample['PUNT_GLOBAL']\n",
    "\n",
    "# División en conjunto de entrenamiento y prueba (80%-20%)\n",
    "X_train, X_test, y_train, y_test = train_test_split(X, y, test_size=0.2, random_state=42)\n",
    "\n",
    "# Crear y entrenar el modelo de SVM para regresión\n",
    "svm_model = SVR()\n",
    "svm_model.fit(X_train, y_train)\n",
    "\n",
    "# Realizar predicciones en el conjunto de prueba\n",
    "y_pred_svm = svm_model.predict(X_test)\n",
    "\n",
    "# Evaluación del modelo\n",
    "mse_svm = mean_squared_error(y_test, y_pred_svm)\n",
    "r2_svm = r2_score(y_test, y_pred_svm)\n",
    "\n",
    "mse_svm, r2_svm\n"
   ]
  },
  {
   "cell_type": "code",
   "execution_count": null,
   "id": "cb8e12f9-917b-4ae8-9dba-917c6749717b",
   "metadata": {},
   "outputs": [],
   "source": [
    "from sklearn.svm import SVR\n",
    "\n",
    "# Crear y entrenar el modelo de SVM para regresión\n",
    "svm_model = SVR()\n",
    "svm_model.fit(X_train, y_train)\n",
    "\n",
    "# Realizar predicciones en el conjunto de prueba\n",
    "y_pred_svm = svm_model.predict(X_test)\n",
    "\n",
    "# Evaluación del modelo\n",
    "mse_svm = mean_squared_error(y_test, y_pred_svm)\n",
    "r2_svm = r2_score(y_test, y_pred_svm)\n",
    "\n",
    "mse_svm, r2_svm\n"
   ]
  },
  {
   "cell_type": "code",
   "execution_count": null,
   "id": "954645c1-8dc3-4317-99f4-f3454155074a",
   "metadata": {},
   "outputs": [],
   "source": [
    "from sklearn.ensemble import GradientBoostingRegressor\n",
    "\n",
    "# Crear y entrenar el modelo de Gradient Boosting\n",
    "gb_model = GradientBoostingRegressor(random_state=42)\n",
    "gb_model.fit(X_train, y_train)\n",
    "\n",
    "# Realizar predicciones en el conjunto de prueba\n",
    "y_pred_gb = gb_model.predict(X_test)\n",
    "\n",
    "# Evaluación del modelo\n",
    "mse_gb = mean_squared_error(y_test, y_pred_gb)\n",
    "r2_gb = r2_score(y_test, y_pred_gb)\n",
    "\n",
    "mse_gb, r2_gb\n"
   ]
  },
  {
   "cell_type": "code",
   "execution_count": null,
   "id": "fe822d2c-69b0-474b-988c-a087723389bb",
   "metadata": {},
   "outputs": [],
   "source": []
  }
 ],
 "metadata": {
  "kernelspec": {
   "display_name": "Python 3 (ipykernel)",
   "language": "python",
   "name": "python3"
  },
  "language_info": {
   "codemirror_mode": {
    "name": "ipython",
    "version": 3
   },
   "file_extension": ".py",
   "mimetype": "text/x-python",
   "name": "python",
   "nbconvert_exporter": "python",
   "pygments_lexer": "ipython3",
   "version": "3.11.2"
  }
 },
 "nbformat": 4,
 "nbformat_minor": 5
}
