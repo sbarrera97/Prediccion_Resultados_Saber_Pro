{
 "cells": [
  {
   "cell_type": "code",
   "execution_count": 0,
   "metadata": {
    "application/vnd.databricks.v1+cell": {
     "cellMetadata": {
      "byteLimit": 2048000,
      "rowLimit": 10000
     },
     "inputWidgets": {},
     "nuid": "9192cfea-2454-4e7d-a6f0-48992af7c866",
     "showTitle": false,
     "tableResultSettingsMap": {},
     "title": ""
    }
   },
   "outputs": [
    {
     "output_type": "stream",
     "name": "stdout",
     "output_type": "stream",
     "text": [
      "  ESTU_COD_RESIDE_DEPTO ESTU_COD_RESIDE_MCPIO  ...   AÑO EDAD_EXAMEN\n0                  11.0               11001.0  ...  2018        21.0\n1                  76.0               76736.0  ...  2018        23.0\n2                  73.0               73001.0  ...  2018        24.0\n3                  68.0               68081.0  ...  2018        21.0\n4                  11.0               11001.0  ...  2018        31.0\n\n[5 rows x 42 columns]\n"
     ]
    },
    {
     "output_type": "display_data",
     "data": {
      "application/vnd.jupyter.widget-view+json": {
       "model_id": "25119c81637644cab10381ab12ddce24",
       "version_major": 2,
       "version_minor": 0
      },
      "text/plain": [
       "Uploading artifacts:   0%|          | 0/9 [00:00<?, ?it/s]"
      ]
     },
     "metadata": {},
     "output_type": "display_data"
    },
    {
     "output_type": "stream",
     "name": "stdout",
     "output_type": "stream",
     "text": [
      "🏃 View run monumental-panda-789 at: https://community.cloud.databricks.com/ml/experiments/2818553716847128/runs/e9a3bf4dd9464799a95ea19ffd5115e1\n🧪 View experiment at: https://community.cloud.databricks.com/ml/experiments/2818553716847128\n"
     ]
    },
    {
     "output_type": "stream",
     "name": "stderr",
     "output_type": "stream",
     "text": [
      "2024/11/26 07:02:55 WARNING mlflow.models.model: Model logged without a signature and input example. Please set `input_example` parameter when logging the model to auto infer the model signature.\n"
     ]
    },
    {
     "output_type": "display_data",
     "data": {
      "application/vnd.jupyter.widget-view+json": {
       "model_id": "09ec4d59366840e9a7e832875763eace",
       "version_major": 2,
       "version_minor": 0
      },
      "text/plain": [
       "Uploading artifacts:   0%|          | 0/9 [00:00<?, ?it/s]"
      ]
     },
     "metadata": {},
     "output_type": "display_data"
    },
    {
     "output_type": "stream",
     "name": "stdout",
     "output_type": "stream",
     "text": [
      "14368.007438930033\n🏃 View run stylish-steed-586 at: https://community.cloud.databricks.com/ml/experiments/2818553716847128/runs/7183ee3a8f444f0db81a5d705eae160b\n🧪 View experiment at: https://community.cloud.databricks.com/ml/experiments/2818553716847128\n"
     ]
    }
   ],
   "source": [
    "import pandas as pd\n",
    "from datetime import datetime\n",
    "from sklearn.preprocessing import LabelEncoder\n",
    "import numpy as np\n",
    "import mlflow\n",
    "import mlflow.sklearn\n",
    "from sklearn.decomposition import PCA\n",
    "from sklearn.preprocessing import StandardScaler\n",
    "from sklearn.model_selection import train_test_split\n",
    "from sklearn.ensemble import RandomForestRegressor\n",
    "from sklearn.metrics import mean_squared_error, r2_score\n",
    "\n",
    "# Usar Spark para cargar la tabla en un DataFrame de Spark\n",
    "df_spark = spark.table(\"default.saberpro_csv\")\n",
    "\n",
    "# Convertir el DataFrame de Spark a un DataFrame de Pandas\n",
    "df_SaberPro = df_spark.toPandas()\n",
    "\n",
    "# Mostrar los primeros registros del DataFrame resultante\n",
    "print(df_SaberPro.head())\n",
    "\n",
    "columnas_interes = ['FAMI_ESTRATOVIVIENDA','FAMI_EDUCACIONMADRE','FAMI_EDUCACIONPADRE','FAMI_TIENEAUTOMOVIL','FAMI_TIENECOMPUTADOR','FAMI_TIENEINTERNET','FAMI_TIENELAVADORA']\n",
    "\n",
    "#label_encoder = LabelEncoder()\n",
    "#for columna in columnas_interes:\n",
    "#    df_Saber11[columna] = label_encoder.fit_transform(df_Saber11[columna])\n",
    "\n",
    "label_encoder = LabelEncoder()\n",
    "for columna in columnas_interes:\n",
    "    df_SaberPro[columna] = label_encoder.fit_transform(df_SaberPro[columna])\n",
    "\n",
    "columns_to_sum = [\n",
    "    'MOD_COMPETEN_CIUDADA_PUNT',\n",
    "    'MOD_LECTURA_CRITICA_PUNT',\n",
    "    'MOD_RAZONA_CUANTITAT_PUNT',\n",
    "    'MOD_COMUNI_ESCRITA_PUNT',\n",
    "    'MOD_INGLES_PUNT'\n",
    "]\n",
    "\n",
    "# Convertir las columnas a numéricas\n",
    "for column in columns_to_sum:\n",
    "    df_SaberPro[column] = pd.to_numeric(df_SaberPro[column], errors='coerce')\n",
    "\n",
    "# Crear la columna PUNT_GLOBAL como la suma de las columnas\n",
    "df_SaberPro['PUNT_GLOBAL'] = df_SaberPro[columns_to_sum].sum(axis=1)\n",
    "\n",
    "for column in columns_to_sum:\n",
    "    df_SaberPro[column] = df_SaberPro[column].astype(str)\n",
    "\n",
    "# Preparar los datos\n",
    "y = df_SaberPro['PUNT_GLOBAL']  # Variable objetivo\n",
    "X = df_SaberPro.drop(columns=['PUNT_GLOBAL'])  # Resto de las columnas\n",
    "\n",
    "# Seleccionar solo las columnas numéricas\n",
    "numerical_columns = X.select_dtypes(include=['int64', 'float64']).columns\n",
    "X_numerical = X[numerical_columns]\n",
    "\n",
    "# Estandarizar los datos\n",
    "scaler = StandardScaler()\n",
    "X_scaled = scaler.fit_transform(X_numerical)\n",
    "\n",
    "# Reducir las dimensiones con PCA\n",
    "pca = PCA(n_components=6)  \n",
    "X_pca = pca.fit_transform(X_scaled)\n",
    "\n",
    "# Dividir en entrenamiento y prueba\n",
    "X_train, X_test, y_train, y_test = train_test_split(X_pca, y, test_size=0.2, random_state=42)\n",
    "\n",
    "# registre el experimento\n",
    "experiment = mlflow.set_experiment(\"/Users/s.barrera@uniandes.edu.co/Saber_pro_MFLOW\")\n",
    "\n",
    "# Aquí se ejecuta MLflow sin especificar un nombre o id del experimento. MLflow los crea un experimento para este cuaderno por defecto y guarda las características del experimento y las métricas definidas. \n",
    "# Para ver el resultado de las corridas haga click en Experimentos en el menú izquierdo. \n",
    "with mlflow.start_run(experiment_id=experiment.experiment_id):\n",
    "    # defina los parámetros del modelo\n",
    "    n_estimators = 50\n",
    "    max_depth = 2\n",
    "    max_features = 2\n",
    "    # Cree el modelo con los parámetros definidos y entrénelo\n",
    "    rf = RandomForestRegressor(n_estimators = n_estimators, max_depth = max_depth, max_features = max_features)\n",
    "    rf.fit(X_train, y_train)\n",
    "    # Realice predicciones de prueba\n",
    "    predictions = rf.predict(X_test)\n",
    "  \n",
    "    # Registre los parámetros\n",
    "    mlflow.log_param(\"num_trees\", n_estimators)\n",
    "    mlflow.log_param(\"maxdepth\", max_depth)\n",
    "    mlflow.log_param(\"max_feat\", max_features)\n",
    "  \n",
    "    \n",
    "    # Registrar el modelo con ejemplo de entrada\n",
    "    mlflow.sklearn.log_model(rf, \"random-forest-model\")\n",
    "    # Cree y registre la métrica de interés\n",
    "    mse = mean_squared_error(y_test, predictions)\n",
    "    mlflow.log_metric(\"mse\", mse)\n",
    "    print(mse)\n"
   ]
  }
 ],
 "metadata": {
  "application/vnd.databricks.v1+notebook": {
   "dashboards": [],
   "environmentMetadata": null,
   "language": "python",
   "notebookMetadata": {
    "pythonIndentUnit": 4
   },
   "notebookName": "Entrega_final_saber_11",
   "widgets": {}
  }
 },
 "nbformat": 4,
 "nbformat_minor": 0
}
